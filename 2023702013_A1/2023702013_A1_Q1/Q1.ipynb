{
 "cells": [
  {
   "cell_type": "code",
   "execution_count": 1,
   "metadata": {},
   "outputs": [],
   "source": [
    "import numpy as np\n",
    "import matplotlib.pyplot as plt\n",
    "import pandas as pd\n",
    "import seaborn as sns\n",
    "import os\n",
    "import sys\n",
    "import sklearn\n",
    "from sklearn import preprocessing\n",
    "from sklearn.preprocessing import StandardScaler\n",
    "from sklearn.model_selection import train_test_split\n",
    "from sklearn.metrics import confusion_matrix\n",
    "from sklearn.metrics import classification_report\n",
    "\n"
   ]
  },
  {
   "cell_type": "code",
   "execution_count": 24,
   "metadata": {},
   "outputs": [
    {
     "data": {
      "text/plain": [
       "<Figure size 10000x10000 with 0 Axes>"
      ]
     },
     "metadata": {},
     "output_type": "display_data"
    },
    {
     "data": {
      "image/png": "[encoded data removed]",
      "text/plain": [
       "<Figure size 311.097x250 with 2 Axes>"
      ]
     },
     "metadata": {},
     "output_type": "display_data"
    }
   ],
   "source": [
    "#importing the dataset\n",
    "dataset = pd.read_csv('Q1Data.csv')\n",
    "#print(dataset.head())\n",
    "\n",
    "#checking for null values\n",
    "#print(dataset.isnull().sum())\n",
    "\n",
    "#create a dataset that contains only MFCCs_1 AND GENUS name\n",
    "dataset1 = dataset[['MFCCs_ 1','Genus']]\n",
    "labels=np.unique(dataset1['Genus'])\n",
    "\n",
    "#plot the data\n",
    "#increasing the figure size\n",
    "# plt.figure(figsize=(100,100))\n",
    "# sns.set(style=\"ticks\")\n",
    "# sns.pairplot(dataset1, hue=\"Genus\")\n",
    "# plt.legend(labels)\n",
    "# plt.show()\n",
    "\n",
    "#clearly scinax has a different distribution than the others so scinax can be classified based on MFCCs_1\n",
    "\n",
    "dataset2 = dataset[['MFCCs_ 2','Genus']]\n",
    "\n",
    "#plot the data\n",
    "#increasing the figure size\n",
    "plt.figure(figsize=(100,100))\n",
    "sns.set(style=\"ticks\")\n",
    "sns.pairplot(dataset2, hue=\"Genus\")\n",
    "#plt.legend(labels)\n",
    "plt.show()\n",
    "\n",
    "#leptodactylus has values less than 0.4 and more than 0.2"
   ]
  },
  {
   "cell_type": "code",
   "execution_count": 3,
   "metadata": {},
   "outputs": [],
   "source": [
    "#creating a decision tree to predict genus using first 6 features\n",
    "\n",
    "#splitting the dataset into training and test set\n",
    "X = dataset.iloc[:, 0:6].values\n",
    "y = dataset.iloc[:, 6].values\n",
    "#splitting the dataset into training and test set with 20:80 ratio\n",
    "X_train, X_test, y_train, y_test = train_test_split(X, y, test_size = 0.2)\n",
    "\n",
    "\n"
   ]
  },
  {
   "cell_type": "code",
   "execution_count": 29,
   "metadata": {},
   "outputs": [
    {
     "name": "stdout",
     "output_type": "stream",
     "text": [
      "[0.]\n"
     ]
    }
   ],
   "source": [
    "#calculating the gini index for each feature\n",
    "\n",
    "\n",
    "\n",
    "\n",
    "def gini_index(dataset, feature):\n",
    "\n",
    "    dataset = dataset.sort_values(by=[feature])\n",
    "    mean = []\n",
    "    for i in range(0,7194,2):    \n",
    "        mean.append((dataset.iloc[i,0]+dataset.iloc[i+1,0])/2)  \n",
    "\n",
    "    mean = []\n",
    "    for i in range(0,7194,2):\n",
    "        mean.append((dataset.iloc[i,0]+dataset.iloc[i+1,0])/2)\n",
    "\n",
    "    gini = []\n",
    "    for i in range(0,3596):\n",
    "        gini.append((mean[i+1]-mean[i])/2)\n",
    "\n",
    "\n",
    "    gini_class = []\n",
    "    for i in range(0,3596):\n",
    "        if gini[i]<=0.4 and gini[i]>=0.2:\n",
    "            gini_class.append('Leptodactylus')\n",
    "        else:\n",
    "            gini_class.append('Scinax')\n",
    "\n",
    "    gini_accuracy = []\n",
    "    for i in range(0,3596):\n",
    "        if gini_class[i]==dataset.iloc[i,6]:\n",
    "            gini_accuracy.append(1)\n",
    "    else:\n",
    "        gini_accuracy.append(0)\n",
    "\n",
    "    return gini_accuracy\n",
    "\n",
    "features = ['MFCCs_ 1','MFCCs_ 2','MFCCs_ 3','MFCCs_ 4','MFCCs_ 5','MFCCs_ 6']\n",
    "gini_accuracy = []\n",
    "for i in range(0,6):\n",
    "    gini_accuracy.append(gini_index(dataset,features[i]))\n",
    "\n",
    "#\n",
    "\n",
    "\n",
    "\n",
    "\n",
    "\n"
   ]
  },
  {
   "cell_type": "code",
   "execution_count": null,
   "metadata": {},
   "outputs": [],
   "source": [
    "#writing a decision tree classifier for adenomera from scratch\n",
    "\n",
    "#calculating entropy\n",
    "def entropy(target_col):\n",
    "    elements,counts = np.unique(target_col,return_counts = True)\n",
    "    entropy = np.sum([(-counts[i]/np.sum(counts))*np.log2(counts[i]/np.sum(counts)) for i in range(len(elements))])\n",
    "    return entropy\n",
    "\n",
    "#calculating information gain\n",
    "\n",
    "def InfoGain(data,split_attribute_name,target_name=\"Genus\"):\n",
    "    #Calculate the entropy of the total dataset\n",
    "    total_entropy = entropy(data[target_name])\n",
    "    \n",
    "    ##Calculate the entropy of the dataset\n",
    "    \n",
    "    #Calculate the values and the corresponding counts for the split attribute \n",
    "    vals,counts= np.unique(data[split_attribute_name],return_counts=True)\n",
    "    \n",
    "    #Calculate the weighted entropy\n",
    "    Weighted_Entropy = np.sum([(counts[i]/np.sum(counts))*entropy(data.where(data[split_attribute_name]==vals[i]).dropna()[target_name]) for i in range(len(vals))])\n",
    "    \n",
    "    #Calculate the information gain\n",
    "    Information_Gain = total_entropy - Weighted_Entropy\n",
    "    return Information_Gain\n",
    "\n",
    "#calculating the information gain for all the features\n",
    "\n"
   ]
  }
 ],
 "metadata": {
  "kernelspec": {
   "display_name": "Tmp",
   "language": "python",
   "name": "python3"
  },
  "language_info": {
   "codemirror_mode": {
    "name": "ipython",
    "version": 3
   },
   "file_extension": ".py",
   "mimetype": "text/x-python",
   "name": "python",
   "nbconvert_exporter": "python",
   "pygments_lexer": "ipython3",
   "version": "3.8.18"
  }
 },
 "nbformat": 4,
 "nbformat_minor": 2
}
